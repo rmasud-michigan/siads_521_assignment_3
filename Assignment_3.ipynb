{
 "cells": [
  {
   "metadata": {},
   "cell_type": "markdown",
   "source": [
    "# Demonstration of Data Analysis#\n",
    "\n"
   ],
   "id": "78eaf5ee369eacbb"
  },
  {
   "metadata": {},
   "cell_type": "code",
   "outputs": [],
   "execution_count": null,
   "source": "## As part of analysis, we will examine a dataset t",
   "id": "51e9f02866b2995c"
  },
  {
   "metadata": {},
   "cell_type": "markdown",
   "source": [
    "<h1>Table of Contents<span class=\"tocSkip\"></span></h1>\n",
    "<div class=\"toc\"><ul class=\"toc-item\"><li><span><a href=\"#Import-Altair-Library-and-Iris-Data-Set\" data-toc-modified-id=\"Import-Altair-Library-and-Iris-Data-Set-1\"><span class=\"toc-item-num\">1&nbsp;&nbsp;</span>Import Altair Library and Iris Data Set</a></span></li><li><span><a href=\"#First-Altair-Chart\" data-toc-modified-id=\"First-Altair-Chart-2\"><span class=\"toc-item-num\">2&nbsp;&nbsp;</span>First Altair Chart</a></span></li><li><span><a href=\"#Basic-SPLOM-Chart\" data-toc-modified-id=\"Basic-SPLOM-Chart-3\"><span class=\"toc-item-num\">3&nbsp;&nbsp;</span>Basic SPLOM Chart</a></span></li></ul></div>"
   ],
   "id": "996d2bd06646c916"
  },
  {
   "metadata": {},
   "cell_type": "markdown",
   "source": [
    "### Constants for our analysis ###\n",
    "* [City of Chicago Camera Data](https://data.cityofchicago.org/stories/s/uqi3-8a7k)\n",
    "* [Raw Data CSV](https://data.cityofchicago.org/api/views/hhkd-xvj4/rows.csv?accessType=DOWNLOAD)"
   ],
   "id": "7ab8121e468c916c"
  },
  {
   "metadata": {
    "ExecuteTime": {
     "end_time": "2025-03-17T02:32:25.961960Z",
     "start_time": "2025-03-17T02:32:25.843413Z"
    }
   },
   "cell_type": "code",
   "outputs": [
    {
     "name": "stdout",
     "output_type": "stream",
     "text": [
      "['10318 S INDIANAPOLIS', '10540 S WESTERN AVE', '11 E CHICAGO AVE', '1110 S PULASKI RD', '11144 S VINCENNES', '11153 S VINCENNES', '1117 S PULASKI RD', '1142 W IRVING PARK', '115 N OGDEN', '1226 N WESTERN AVE', '1229 N WESTERN AVE', '1274 E 83RD ST', '1306 W 76TH ST', '1315 W GARFIELD BLVD', '1334 W GARFIELD BLVD', '14 W CHICAGO AVE', '140 N ASHLAND', '141 N ASHLAND', '1440 W CERMAK RD', '1444 W DIVISION ST', '1455 W DIVISION ST', '1507 W 83rd ST', '1635 N ASHLAND AVE', '1638 N ASHLAND AVE', '1732 W 99TH ST', '1754 N PULASKI RD', '18 W SUPERIOR ST', '1817 N CLARK ST', '19 W CHICAGO AVE', '1901 E 75TH ST', '2080 W PERSHING', '2108 S WESTERN AVE', '2109 E 87TH ST', '2115 S WESTERN AVE', '215 E 63RD ST', '2223 N KEDZIE BLVD', '2326 W CERMAK RD', '2329 W DIVISION ST', '2335 W CERMAK RD', '2416 W 103RD ST', '2417 W 103RD ST', '2432 N ASHLAND', '2440 W 51ST ST', '2443 N ASHLAND', '2445 W 51ST ST', '2448 N CLYBOURN AVE', '2501 W IRVING PARK RD', '2513 W 55TH', '2549 W ADDISON', '2550 W 79TH', '2603 W 79TH', '2638 W FULLERTON AVE', '2700 W 103RD ST', '2705 W IRVING PARK', '2712 W IRVING PARK', '2721 W MONTROSE', '2900 W OGDEN', '2912 W ROOSEVELT', '2917 W ROOSEVELT', '2928 S HALSTED', '3034 W FOSTER', '3047 W JACKSON BLVD', '3100 W AUGUSTA', '3111 N ASHLAND AVE', '3115 N NARRAGANSETT AVE', '3116 N NARRAGANSETT AVE', '3130 N ASHLAND AVE', '3137 W PETERSON', '319 E ILLINOIS ST', '3200 S ARCHER AVE', '3212 W 55TH ST', '3217 W 55TH ST', '3230 N MILWAUKEE AVE', '324 E ILLINOIS ST', '324 S KEDZIE AVE', '3314 W 16TH ST', '341 W 76th ST', '3450 W 71ST', '346 W 76th ST', '3521 N WESTERN', '3534 N WESTERN', '3535 E 95TH ST', '3536 S WALLACE ST', '3542 E 95TH ST', '3601 N MILWAUKEE AVE', '3646 W MADISON', '3655 W JACKSON', '3809 W BELMONT AVE', '3810 W BELMONT AVE', '3832 W 79TH', '3843 S WESTERN', '3843 W 111TH', '3851 W 79th', '3911 W DIVERSEY AVE', '4040 W 55TH', '4040 W CHICAGO AVE', '4041 W CHICAGO AVE', '4042 W NORTH AVE', '4042 W ROOSEVELT RD', '4045 W 55TH', '4053 W NORTH AVE', '4123 N CENTRAL AVE', '4124 W FOSTER AVE', '4246 W 47TH ST', '4319 W 47TH ST', '4350 W 79TH ST', '4429 N BROADWAY', '4432 N LINCOLN', '4433 N WESTERN', '4436 N WESTERN', '4446 N BROADWAY', '445 W 127TH', '449 N COLUMBUS DR', '450 N COLUMBUS DR', '4516 W MARQUETTE RD', '4620 W BELMONT AVE', '4674 W PETERSON AVE', '4707 W PETERSON AVE', '4831 W LAWRENCE AVE', '4843 W FULLERTON', '4909 N CICERO AVE', '4929 S PULASKI', '4949 W LAWRENCE AVE', '4965 S ARCHER', '5006 S WESTERN BLVD', '5025 S WESTERN AVE', '5030 S PULASKI', '506 S CENTRAL AVE', '5120 N PULASKI', '515 S CENTRAL AVE', '5330 S COTTAGE GROVE', '536 E MORGAN DR', '5420 S RACINE AVE', '5428 S PULASKI', '5432 W LAWRENCE', '5433 S PULASKI', '5440 W GRAND', '5446 W FULLERTON', '5454 W IRVING PARK', '5471 W HIGGINS', '5509 W FULLERTON', '5532 S KEDZIE AVE', '57 E 95TH', '5739 N NORTHWEST HWY', '5816 W JACKSON', '5885 N RIDGE AVE', '6020 W FOSTER AVE', '6125 N CICERO AVE', '62 E 95TH', '6226 W IRVING PARK RD', '6247 W FULLERTON', '6250 W FULLERTON', '629 S STATE', '630 S STATE', '6330 S MARTIN LUTHER KING', '6443 W BELMONT AVE', '6510 W BRYN MAWR AVE', '6514 W BELMONT AVE', '6523 N WESTERN', '655 W ROOT ST', '6818 S KEDZIE', '6909 S KEDZIE', '6935 W ADDISON ST', '6938 W ADDISON ST', '7122 S SOUTH CHICAGO AVE', '7157 S SOUTH CHICAGO AVE', '732 N PULASKI RD', '7422 S JEFFERY', '7508 W TOUHY AVE', '7518 S VINCENNES', '7826 S PULASKI', '7833 S PULASKI', '8006 W ADDISON ST', '8020 W FOREST PRESERVE AV', '8043 W ADDISON ST', '819 E 71ST ST', '8318 S ASHLAND AVE', '8345 S ASHLAND AVE', '901 N CLARK ST', '9618 S EWING AVE']\n"
     ]
    }
   ],
   "execution_count": 21,
   "source": [
    "df_copy = df_camera_data[\n",
    "    df_camera_data['ADDRESS'].notna() & df_camera_data['CAMERA ID'].notna() &\n",
    "    df_camera_data['LATITUDE'].notna() & df_camera_data['LONGITUDE'].notna() & df_camera_data['LOCATION'].notna()]\n",
    "df_copy.describe()\n",
    "\n",
    "distinct_cameras = df_copy['CAMERA ID'].unique()\n",
    "distinct_address = df_copy['ADDRESS'].unique()\n",
    "distinct_cameras =sorted(distinct_cameras)\n",
    "distinct_address =sorted(distinct_address)\n",
    "#print(distinct_cameras)\n",
    "print(distinct_address)"
   ],
   "id": "91092a889960c57d"
  },
  {
   "metadata": {
    "ExecuteTime": {
     "end_time": "2025-03-16T23:33:45.203441Z",
     "start_time": "2025-03-16T23:33:45.199844Z"
    }
   },
   "cell_type": "code",
   "outputs": [],
   "execution_count": 7,
   "source": [
    "const_src_url = \"https://data.cityofchicago.org/api/views/hhkd-xvj4/rows.csv?accessType=DOWNLOAD\"\n",
    "const_storage_file =\"assets/data/chicago_red_light_cameras.csv\""
   ],
   "id": "2ccf11cf0ca5d144"
  },
  {
   "metadata": {
    "collapsed": true,
    "ExecuteTime": {
     "end_time": "2025-03-16T23:34:11.489583Z",
     "start_time": "2025-03-16T23:33:48.740804Z"
    }
   },
   "cell_type": "code",
   "outputs": [
    {
     "name": "stdout",
     "output_type": "stream",
     "text": [
      "CSV saved to assets/data/chicago_red_light_cameras.csv\n"
     ]
    },
    {
     "data": {
      "text/plain": [
       "           ADDRESS CAMERA ID VIOLATION DATE  VIOLATIONS  X COORDINATE  \\\n",
       "0  1111 N HUMBOLDT    CHI010     04/10/2015          67           NaN   \n",
       "1  1111 N HUMBOLDT    CHI010     04/25/2015          71           NaN   \n",
       "2  1111 N HUMBOLDT    CHI010     04/14/2015          38           NaN   \n",
       "3  1111 N HUMBOLDT    CHI010     04/16/2015          55           NaN   \n",
       "4  1111 N HUMBOLDT    CHI010     04/24/2015          54           NaN   \n",
       "\n",
       "   Y COORDINATE  LATITUDE  LONGITUDE LOCATION  \n",
       "0           NaN       NaN        NaN      NaN  \n",
       "1           NaN       NaN        NaN      NaN  \n",
       "2           NaN       NaN        NaN      NaN  \n",
       "3           NaN       NaN        NaN      NaN  \n",
       "4           NaN       NaN        NaN      NaN  "
      ],
      "text/html": [
       "<div>\n",
       "<style scoped>\n",
       "    .dataframe tbody tr th:only-of-type {\n",
       "        vertical-align: middle;\n",
       "    }\n",
       "\n",
       "    .dataframe tbody tr th {\n",
       "        vertical-align: top;\n",
       "    }\n",
       "\n",
       "    .dataframe thead th {\n",
       "        text-align: right;\n",
       "    }\n",
       "</style>\n",
       "<table border=\"1\" class=\"dataframe\">\n",
       "  <thead>\n",
       "    <tr style=\"text-align: right;\">\n",
       "      <th></th>\n",
       "      <th>ADDRESS</th>\n",
       "      <th>CAMERA ID</th>\n",
       "      <th>VIOLATION DATE</th>\n",
       "      <th>VIOLATIONS</th>\n",
       "      <th>X COORDINATE</th>\n",
       "      <th>Y COORDINATE</th>\n",
       "      <th>LATITUDE</th>\n",
       "      <th>LONGITUDE</th>\n",
       "      <th>LOCATION</th>\n",
       "    </tr>\n",
       "  </thead>\n",
       "  <tbody>\n",
       "    <tr>\n",
       "      <th>0</th>\n",
       "      <td>1111 N HUMBOLDT</td>\n",
       "      <td>CHI010</td>\n",
       "      <td>04/10/2015</td>\n",
       "      <td>67</td>\n",
       "      <td>NaN</td>\n",
       "      <td>NaN</td>\n",
       "      <td>NaN</td>\n",
       "      <td>NaN</td>\n",
       "      <td>NaN</td>\n",
       "    </tr>\n",
       "    <tr>\n",
       "      <th>1</th>\n",
       "      <td>1111 N HUMBOLDT</td>\n",
       "      <td>CHI010</td>\n",
       "      <td>04/25/2015</td>\n",
       "      <td>71</td>\n",
       "      <td>NaN</td>\n",
       "      <td>NaN</td>\n",
       "      <td>NaN</td>\n",
       "      <td>NaN</td>\n",
       "      <td>NaN</td>\n",
       "    </tr>\n",
       "    <tr>\n",
       "      <th>2</th>\n",
       "      <td>1111 N HUMBOLDT</td>\n",
       "      <td>CHI010</td>\n",
       "      <td>04/14/2015</td>\n",
       "      <td>38</td>\n",
       "      <td>NaN</td>\n",
       "      <td>NaN</td>\n",
       "      <td>NaN</td>\n",
       "      <td>NaN</td>\n",
       "      <td>NaN</td>\n",
       "    </tr>\n",
       "    <tr>\n",
       "      <th>3</th>\n",
       "      <td>1111 N HUMBOLDT</td>\n",
       "      <td>CHI010</td>\n",
       "      <td>04/16/2015</td>\n",
       "      <td>55</td>\n",
       "      <td>NaN</td>\n",
       "      <td>NaN</td>\n",
       "      <td>NaN</td>\n",
       "      <td>NaN</td>\n",
       "      <td>NaN</td>\n",
       "    </tr>\n",
       "    <tr>\n",
       "      <th>4</th>\n",
       "      <td>1111 N HUMBOLDT</td>\n",
       "      <td>CHI010</td>\n",
       "      <td>04/24/2015</td>\n",
       "      <td>54</td>\n",
       "      <td>NaN</td>\n",
       "      <td>NaN</td>\n",
       "      <td>NaN</td>\n",
       "      <td>NaN</td>\n",
       "      <td>NaN</td>\n",
       "    </tr>\n",
       "  </tbody>\n",
       "</table>\n",
       "</div>"
      ]
     },
     "execution_count": 8,
     "metadata": {},
     "output_type": "execute_result"
    }
   ],
   "execution_count": 8,
   "source": [
    "from utils.data.data_extractor import *\n",
    "\n",
    "df_camera_data = save_csv_response(const_src_url, const_storage_file)\n",
    "\n",
    "df_camera_data.head()"
   ],
   "id": "initial_id"
  },
  {
   "metadata": {},
   "cell_type": "code",
   "outputs": [],
   "execution_count": null,
   "source": "# Rules",
   "id": "6f928cc2871ae8ea"
  },
  {
   "metadata": {},
   "cell_type": "markdown",
   "source": [
    "## As part of this Analysis we have been guided be the following rules:\n",
    "\n",
    "- Rule 1: Story Telling\n",
    "    - As it has presented here, the notebook lays out the background on the data. What it was being used for and how the underlining data can be analyzed.\n",
    "- Rule: 2 Document the process\n",
    "    - Each part of the source data, source code and how the two were used in combination to produce the living and reusable workbook.\n",
    "- Rule 3: Use of cell division to make things clear\n",
    "    - Per cell, context to what code is being run and what it is functions it is performing. Where possible code examples are provided for context and adhere to a 3R model of Repeatable, Reliable and Reusable.\n",
    "- Rule 4: Modularity of code\n",
    "    - As part of this workbook and the necessary code, helper functions the encapsulate larger complex code have been created and provided so the workbook is readable and clear."
   ],
   "id": "74290fcf9f4970a"
  }
 ],
 "metadata": {
  "kernelspec": {
   "display_name": "Python 3",
   "language": "python",
   "name": "python3"
  },
  "language_info": {
   "codemirror_mode": {
    "name": "ipython",
    "version": 2
   },
   "file_extension": ".py",
   "mimetype": "text/x-python",
   "name": "python",
   "nbconvert_exporter": "python",
   "pygments_lexer": "ipython2",
   "version": "2.7.6"
  }
 },
 "nbformat": 4,
 "nbformat_minor": 5
}
