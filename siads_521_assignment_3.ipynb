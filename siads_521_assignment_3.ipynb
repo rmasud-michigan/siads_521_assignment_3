{
 "cells": [
  {
   "cell_type": "markdown",
   "id": "e8cd5a83-874d-4f15-8ead-e22db3dc06d4",
   "metadata": {
    "panel-layout": {
     "height": 84.3906,
     "visible": true,
     "width": 100
    }
   },
   "source": [
    "## Assignment 3 \n",
    "\n",
    "Radif Masud "
   ]
  },
  {
   "cell_type": "markdown",
   "id": "95c7a6dc-47ca-4521-80bc-aa3b02b8ff89",
   "metadata": {
    "panel-layout": {
     "height": 50.7969,
     "visible": true,
     "width": 100
    }
   },
   "source": [
    "## Visualization Techniques"
   ]
  },
  {
   "cell_type": "markdown",
   "id": "579f480f-2cc2-42c3-ac14-f70f37d357e8",
   "metadata": {
    "panel-layout": {
     "height": 10,
     "visible": true,
     "width": 100
    }
   },
   "source": []
  },
  {
   "cell_type": "markdown",
   "id": "75fcdfdb-ac1d-428f-808b-0a4d7c04ee40",
   "metadata": {
    "panel-layout": {
     "height": 50.7969,
     "visible": true,
     "width": 100
    }
   },
   "source": [
    "## Visualization Libraries\n",
    "\n",
    "> As part of our documentation, we want to call out the required libraries that make this workbook functional, how to install them and what they provide. As part of the workbook design you may not see the being directly referenced and that is by design to keep this workbook clean. Where possible the various libraries being referenced will be encapsulated in functions within the modules contained within this workbook's directory. As part of this workbook, no specific version of these libraries is required. The latest available should work for the cells.\n",
    "\n",
    "\n",
    "| Module     | Install                  | Description                                                             |\n",
    "|------------|--------------------------|-------------------------------------------------------------------------|\n",
    "| pandas     | `pip install pandas`     | Powerful data structures for data analysis, time series, and statistics |\n",
    "| matplotlib | `pip install matplotlib` | Python plotting package                                                 |\n",
    "| seaborn    | `pip install seaborn`    | Statistical data visualization                                          |\n",
    "| numpy      | `pip install numpy `     | Foundational module for dealing and working with large arrays           |\n",
    "\n",
    "\n",
    "\n",
    "\n"
   ]
  },
  {
   "cell_type": "markdown",
   "id": "07a25a98-effc-448e-b6f2-aaf3f0baa85f",
   "metadata": {
    "panel-layout": {
     "height": 10,
     "visible": true,
     "width": 100
    }
   },
   "source": []
  },
  {
   "cell_type": "markdown",
   "id": "8786769d-4f9a-422d-8b12-fc4cc1b5c67f",
   "metadata": {
    "panel-layout": {
     "height": 50.7969,
     "visible": true,
     "width": 100
    }
   },
   "source": [
    "## Demonstration"
   ]
  },
  {
   "cell_type": "code",
   "execution_count": null,
   "id": "52911868-cab1-4415-9642-51bcd53e2090",
   "metadata": {},
   "outputs": [],
   "source": []
  },
  {
   "cell_type": "markdown",
   "id": "65323455-16f9-4ac5-86e2-5858d96a1c02",
   "metadata": {
    "panel-layout": {
     "height": 50.7969,
     "visible": true,
     "width": 100
    }
   },
   "source": [
    "## Rules Adherence\n",
    "\n",
    "> As part of building a reusable and repeatable workbook, we want to adhere to rules that will help us a data scientists collect, present, and share our findings with peers. As part of this workbook, these are the key rules that helped guide the final product."
   ]
  },
  {
   "cell_type": "markdown",
   "id": "997b0278-f832-49da-8c0a-88e655cc987f",
   "metadata": {
    "panel-layout": {
     "height": 44.09375,
     "visible": true,
     "width": 100
    }
   },
   "source": [
    "### Rule 1 (Telling a story)\n",
    "\n",
    "> Knowing our audience and how to craft computational narrative is key. The rule on story telling is about knowing our audience and presenting complex layers of data in a meaningful way that convey information. As part of this workbook, as the data is presented, I want to provide information around what is the intent of the presented model, how it was produced and present possible questions they can answer from the data. Like a story, I aimed to explain what problems that I might have encountered and steps I needed to take. This will help establish the how, the what and why.\n",
    "\n"
   ]
  },
  {
   "cell_type": "markdown",
   "id": "d1d0bd1b-a9a8-4b49-bbce-af830627e733",
   "metadata": {},
   "source": [
    "### Rule 2 (Document the process)\n",
    "\n",
    "> The documentation rule is about providing the context and flow of where I got the data, how the data was transformerd, and loaded into the environment. Similar to a term paper or other historical stories, we want to provide the footnotes on where we sourced information and how we obtained it. This is important to establish legitimacy on the outputs. As part of this workbook, context around specific processing are called out to help educate the reader and provide them samples and sources as well that they can reference.\n"
   ]
  },
  {
   "cell_type": "markdown",
   "id": "f95b68bc-caf6-4a7a-a39e-ad2ef9f3b7b0",
   "metadata": {},
   "source": [
    "### Rule 3 (Use Cell Divisions)\n",
    "\n",
    "> The rule of cell division helps us establish a cleaner set of areas in the workbook. Each cell can act as boundary of information and points of focus. To help keep cells clean, functional areas that can call a function help reduce the initial UI noise. We want to keep cells from spanning multiple scrolls to provide a user a section by section viewing experience.\n"
   ]
  },
  {
   "cell_type": "markdown",
   "id": "656671cb-00ac-44ab-86c1-14d12a9e2a5f",
   "metadata": {},
   "source": [
    "### Rule 4 (Code Modularization)\n",
    "\n",
    "> The rule for code moderation is  intended to keep complex code out of the direct view as well as give us clean separation of concerns. Creating concise, reusable, and parameterized functions allow the visual side of the workbook to stay more in presenting the data. The module code within the workbook directory helps us keep that clean. As part of this workbook, I created modules that worked in extract, transform, and loading spaces. The modules are part of the repo and also contain documentation within them to provide other users the ability to see how certain techniques are applied.\n",
    "\n"
   ]
  },
  {
   "cell_type": "markdown",
   "id": "fd2660b9-90a8-4b5b-bcc5-e9348975a871",
   "metadata": {
    "panel-layout": {
     "height": 129.640625,
     "visible": true,
     "width": 100
    }
   },
   "source": [
    "### Rule 6 (Version Control)\n",
    "\n",
    "> The ability to restore and save a working set of code to demonstrate functionality is important in the developement community. Version control systems like Git or SubVersion offer that ability to store backups and branches of code that can worked on by different team members. Systems like Git provide free accounts to users to upload and share their work with the global community.\n",
    "As part of this workbook, all the source code is available in a publicly available repository on Git and can be accessed at [siads_521_assignment_3](https://github.com/rmasud-michigan/siads_521_assignment_3.git)."
   ]
  },
  {
   "cell_type": "code",
   "execution_count": null,
   "id": "3ac4a4d7-eb27-44e7-8e48-84dd349fb220",
   "metadata": {},
   "outputs": [],
   "source": []
  }
 ],
 "metadata": {
  "kernelspec": {
   "display_name": "Python 3 (ipykernel)",
   "language": "python",
   "name": "python3"
  },
  "language_info": {
   "codemirror_mode": {
    "name": "ipython",
    "version": 3
   },
   "file_extension": ".py",
   "mimetype": "text/x-python",
   "name": "python",
   "nbconvert_exporter": "python",
   "pygments_lexer": "ipython3",
   "version": "3.10.12"
  },
  "panel-cell-order": [
   "e8cd5a83-874d-4f15-8ead-e22db3dc06d4",
   "95c7a6dc-47ca-4521-80bc-aa3b02b8ff89",
   "579f480f-2cc2-42c3-ac14-f70f37d357e8",
   "75fcdfdb-ac1d-428f-808b-0a4d7c04ee40",
   "07a25a98-effc-448e-b6f2-aaf3f0baa85f",
   "8786769d-4f9a-422d-8b12-fc4cc1b5c67f",
   "65323455-16f9-4ac5-86e2-5858d96a1c02",
   "997b0278-f832-49da-8c0a-88e655cc987f",
   "fd2660b9-90a8-4b5b-bcc5-e9348975a871"
  ]
 },
 "nbformat": 4,
 "nbformat_minor": 5
}
